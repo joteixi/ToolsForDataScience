{
 "cells": [
  {
   "cell_type": "markdown",
   "metadata": {},
   "source": [
    "<center>\n",
    "    <img src=\"https://cf-courses-data.s3.us.cloud-object-storage.appdomain.cloud/IBMDeveloperSkillsNetwork-DS0105EN-SkillsNetwork/labs/Module2/images/SN_web_lightmode.png\" width=\"300\" alt=\"cognitiveclass.ai logo\">\n",
    "</center>\n"
   ]
  },
  {
   "cell_type": "markdown",
   "metadata": {},
   "source": [
    "#### Add your code below following the instructions given in the course\n"
   ]
  },
  {
   "cell_type": "markdown",
   "metadata": {},
   "source": [
    "# My Jupyter Notebook on IBM Watson Studio"
   ]
  },
  {
   "cell_type": "markdown",
   "metadata": {},
   "source": [
    "**Joan T.** <br>\n",
    "Postdoctoral researcher in microtechnologies."
   ]
  },
  {
   "cell_type": "markdown",
   "metadata": {},
   "source": [
    "*I am interested in data science because it allows to extract value from data. I want to explore machine learning tools too and see how it can help me obtain information that is hidden in data.*"
   ]
  },
  {
   "cell_type": "markdown",
   "metadata": {},
   "source": [
    "### My code in cell 5 defines a function power 2 that returns the square of the numeric value provided as input. It then prints the input and output for a list of values."
   ]
  },
  {
   "cell_type": "code",
   "execution_count": 11,
   "metadata": {},
   "outputs": [
    {
     "name": "stdout",
     "output_type": "stream",
     "text": [
      "The input is  1 ; its squared value is 1\n",
      "The input is  2 ; its squared value is 4\n",
      "The input is  3 ; its squared value is 9\n",
      "The input is  4 ; its squared value is 16\n",
      "The input is  5 ; its squared value is 25\n",
      "The input is  6 ; its squared value is 36\n",
      "The input is  7 ; its squared value is 49\n"
     ]
    }
   ],
   "source": [
    "def power2(input): # Define the power2 function\n",
    "    return input*input\n",
    "\n",
    "inputlist=[1,2,3,4,5,6,7] # Define a list of input values\n",
    "\n",
    "for ipt in inputlist: # print the input and output\n",
    "    print('The input is ', ipt,'; its squared value is',power2(ipt))\n"
   ]
  },
  {
   "cell_type": "markdown",
   "metadata": {},
   "source": [
    "**List of my 3 oldest Friends (ordered by age):** <br>\n",
    "1. John\n",
    "2. Fred\n",
    "3. Gaby\n",
    "\n",
    "**List of places that I would like to visit (unordered):** <br>\n",
    "* Barcelona\n",
    "* New York\n",
    "* Tokyo\n",
    "\n",
    "**Multiplication Table:** <br>\n",
    "\n",
    "<table >\n",
    "  <thead>\n",
    "    <tr>\n",
    "      <th>X</th>\n",
    "      <th>1</th>\n",
    "      <th>2</th>\n",
    "      <th>3</th>\n",
    "    </tr>\n",
    "  </thead>\n",
    "  <tbody>\n",
    "    <tr>\n",
    "      <th>1</th>\n",
    "      <td>1</td>\n",
    "      <td>2</td>\n",
    "      <td>3</td>\n",
    "    </tr>\n",
    "    <tr>\n",
    "      <th>2</th>\n",
    "      <td>2</td>\n",
    "      <td>4</td>\n",
    "      <td>6</td>\n",
    "    </tr>\n",
    "    <tr>\n",
    "        <th>3</th>\n",
    "      <td>3</td>\n",
    "      <td>6</td>\n",
    "      <td>9</td>\n",
    "    </tr>\n",
    "  </tbody>\n",
    "</table>\n",
    "\n",
    "\n",
    "**Picture of a cat:** <br>\n",
    "The source is \"https://d1hjkbq40fs2x4.cloudfront.net/2016-07-16/files/cat-sample_1313-5.jpg\". The picture should be displayed below.\n",
    "   \n",
    "<center>\n",
    "    <img src=\"https://d1hjkbq40fs2x4.cloudfront.net/2016-07-16/files/cat-sample_1313-5.jpg\" width=\"300\" alt=\"cat picture\">\n",
    "</center>"
   ]
  },
  {
   "cell_type": "code",
   "execution_count": 1,
   "metadata": {},
   "outputs": [
    {
     "name": "stderr",
     "output_type": "stream",
     "text": [
      "/home/jupyterlab/conda/envs/python/lib/python3.7/site-packages/IPython/core/display.py:724: UserWarning: Consider using IPython.display.IFrame instead\n",
      "  warnings.warn(\"Consider using IPython.display.IFrame instead\")\n"
     ]
    },
    {
     "data": {
      "text/html": [
       "<iframe src=http://icperformance.com/wp-content/demos/kmeansmouse.html width=500 height=450></iframe>"
      ],
      "text/plain": [
       "<IPython.core.display.HTML object>"
      ]
     },
     "execution_count": 1,
     "metadata": {},
     "output_type": "execute_result"
    }
   ],
   "source": [
    "from IPython.display import HTML\n",
    "HTML('<iframe src=http://icperformance.com/wp-content/demos/kmeansmouse.html width=500 height=450></iframe>')"
   ]
  },
  {
   "cell_type": "code",
   "execution_count": null,
   "metadata": {},
   "outputs": [],
   "source": []
  },
  {
   "cell_type": "code",
   "execution_count": null,
   "metadata": {},
   "outputs": [],
   "source": []
  }
 ],
 "metadata": {
  "kernelspec": {
   "display_name": "Python",
   "language": "python",
   "name": "conda-env-python-py"
  },
  "language_info": {
   "codemirror_mode": {
    "name": "ipython",
    "version": 3
   },
   "file_extension": ".py",
   "mimetype": "text/x-python",
   "name": "python",
   "nbconvert_exporter": "python",
   "pygments_lexer": "ipython3",
   "version": "3.7.12"
  }
 },
 "nbformat": 4,
 "nbformat_minor": 4
}
